{
  "nbformat": 4,
  "nbformat_minor": 0,
  "metadata": {
    "colab": {
      "name": "Untitled2.ipynb",
      "provenance": [],
      "collapsed_sections": [],
      "authorship_tag": "ABX9TyOHm/7vz/XJ1Fve5gg4dIfy",
      "include_colab_link": true
    },
    "kernelspec": {
      "name": "python3",
      "display_name": "Python 3"
    },
    "language_info": {
      "name": "python"
    }
  },
  "cells": [
    {
      "cell_type": "markdown",
      "metadata": {
        "id": "view-in-github",
        "colab_type": "text"
      },
      "source": [
        "<a href=\"https://colab.research.google.com/github/Abhinav169/oop-task-2/blob/main/Untitled2.ipynb\" target=\"_parent\"><img src=\"https://colab.research.google.com/assets/colab-badge.svg\" alt=\"Open In Colab\"/></a>"
      ]
    },
    {
      "cell_type": "code",
      "metadata": {
        "colab": {
          "base_uri": "https://localhost:8080/"
        },
        "id": "76_-rNjdH8Ze",
        "outputId": "9a7080c4-29fb-494f-8c8a-3dccc26cc879"
      },
      "source": [
        "import math\n",
        "class Circle:\n",
        "    def __init__(self, radius):\n",
        "        self.radius = radius\n",
        "\n",
        "    def perimeter(self):\n",
        "        return (2 * math.pi * self.radius)\n",
        "\n",
        "    def area(self):\n",
        "        return (math.pi * (self.radius ** 2))\n",
        "\n",
        "c1 = Circle(3)\n",
        "print(c1.perimeter())\n",
        "print(c1.area())  "
      ],
      "execution_count": 1,
      "outputs": [
        {
          "output_type": "stream",
          "name": "stdout",
          "text": [
            "18.84955592153876\n",
            "28.274333882308138\n"
          ]
        }
      ]
    },
    {
      "cell_type": "code",
      "metadata": {
        "colab": {
          "base_uri": "https://localhost:8080/"
        },
        "id": "GFexKk6RIOBL",
        "outputId": "d152db27-a1af-42dc-8a07-298b1d9be8d2"
      },
      "source": [
        "class TeachingFaculty:\n",
        "    # def _init_(self, name, emp_ID, branch, salary):\n",
        "    \n",
        "\n",
        "    def setData(self):\n",
        "        self.name = input(\"Enter the employee name : \")       #     self.name = name\n",
        "        self.emp_ID = int(input(\"Enter the employee ID : \"))  #     self.emp_ID = emp_ID\n",
        "        self.branch = input(\"Enter the branch name : \")       #     self.branch = branch\n",
        "        self.salary = int(input(\"Enter the salary : \"))       #     self.salary = salary\n",
        "\n",
        "    def getData(self):\n",
        "        print(f\"Name : {self.name} \\nEmployee ID : {self.emp_ID} \\nBranch : {self.branch} \\nSalary : {self.salary}\\n\")\n",
        "        return self.name, self.emp_ID, self.branch, self.salary\n",
        "\n",
        "# t1 = TeachingFaculty()\n",
        "listTF = []\n",
        "for i in range(1, 3):\n",
        "    temp = TeachingFaculty()\n",
        "    print(f\"\\nEnter the data for {i}th employee : \")\n",
        "    temp.setData()\n",
        "    listTF.append(temp)\n",
        "\n",
        "for i in range(0, 2):\n",
        "    print(f\"\\nData of {i+1}th employee : \")\n",
        "    listTF[i].getData()"
      ],
      "execution_count": 2,
      "outputs": [
        {
          "output_type": "stream",
          "name": "stdout",
          "text": [
            "\n",
            "Enter the data for 1th employee : \n",
            "Enter the employee name : ARJUN SAGAR\n",
            "Enter the employee ID : 25\n",
            "Enter the branch name : CSE\n",
            "Enter the salary : 1000\n",
            "\n",
            "Enter the data for 2th employee : \n",
            "Enter the employee name : KESAVA\n",
            "Enter the employee ID : 45\n",
            "Enter the branch name : CSE\n",
            "Enter the salary : 2000\n",
            "\n",
            "Data of 1th employee : \n",
            "Name : ARJUN SAGAR \n",
            "Employee ID : 25 \n",
            "Branch : CSE \n",
            "Salary : 1000\n",
            "\n",
            "\n",
            "Data of 2th employee : \n",
            "Name : KESAVA \n",
            "Employee ID : 45 \n",
            "Branch : CSE \n",
            "Salary : 2000\n",
            "\n"
          ]
        }
      ]
    },
    {
      "cell_type": "code",
      "metadata": {
        "colab": {
          "base_uri": "https://localhost:8080/"
        },
        "id": "IOvdp-XmJFc8",
        "outputId": "0378924d-ff16-49ab-a9ee-4ea926e7b5c2"
      },
      "source": [
        "class Account:\n",
        "    def __init__(self, accNo, accHolder, amount):\n",
        "        self.accountNumber = accNo\n",
        "        self.accountHolder = accHolder\n",
        "        self.accountAmount = amount\n",
        "\n",
        "    def deposit(self):\n",
        "        depAmount = int(input(\"Enter the amount to deposit : \"))\n",
        "        self.accountAmount += depAmount\n",
        "        print(f\"Amount deposited : {depAmount} \\nNew Balance : {self.accountAmount}\")\n",
        "\n",
        "    def withdraw(self):\n",
        "        withAmount = int(input(\"Enter the amount to withdraw : \"))\n",
        "        if withAmount > self.accountAmount:\n",
        "            print(\"Cannot withdraw more than savings.\")\n",
        "            return -1\n",
        "        self.accountAmount -= withAmount\n",
        "        print(f\"Amount withdraw : {withAmount} \\nNew Balance = {self.accountAmount}\")\n",
        "        return withAmount\n",
        "\n",
        "    def checkBalance(self):\n",
        "        print(f\"Balance : {self.accountAmount}\")\n",
        "        return self.accountAmount\n",
        "\n",
        "    def getDetails(self):\n",
        "        print(f\"\\nAccount Number : {self.accountNumber} \\nAccount Holder : {self.accountHolder} \\nBalance : {self.accountAmount}\")\n",
        "        return self.accountNumber, self.accountHolder, self.accountAmount\n",
        "\n",
        "a1 = Account(506765, \"ARJUN\", 500)\n",
        "a1.deposit()\n",
        "withdraw = a1.withdraw()\n",
        "# print(withdraw)\n",
        "balance = a1.checkBalance()\n",
        "# print(balance)\n",
        "details = a1.getDetails()\n",
        "# print(details)"
      ],
      "execution_count": 4,
      "outputs": [
        {
          "output_type": "stream",
          "name": "stdout",
          "text": [
            "Enter the amount to deposit : 300\n",
            "Amount deposited : 300 \n",
            "New Balance : 800\n",
            "Enter the amount to withdraw : 400\n",
            "Amount withdraw : 400 \n",
            "New Balance = 400\n",
            "Balance : 400\n",
            "\n",
            "Account Number : 506765 \n",
            "Account Holder : ARJUN \n",
            "Balance : 400\n"
          ]
        }
      ]
    },
    {
      "cell_type": "code",
      "metadata": {
        "colab": {
          "base_uri": "https://localhost:8080/"
        },
        "id": "VXCoPgROJfra",
        "outputId": "da2c7fe7-6c2b-4391-e198-1d88d0f85752"
      },
      "source": [
        "class Records:\n",
        "\n",
        "    def setData(self):\n",
        "        self.name = input(\"Enter the name of the student : \")\n",
        "        self.ID = int(input(\"Enter the USN of the student : \"))\n",
        "        self.marks = []\n",
        "        for i in range(1, 4):\n",
        "            marks = input(f\"Enter the marks for subject {i} : \")\n",
        "            self.marks.append(marks)\n",
        "\n",
        "    def getData(self):\n",
        "        print(f\"Name : {self.name} \\nUSN : {self.ID} \\nMarks : \\nSubject 1 : {self.marks[0]} \\nSubject 2 : {self.marks[1]} \\nSubject 3 : {self.marks[2]}\")\n",
        "        return self.name, self.ID, self.marks\n",
        "\n",
        "s1 = Records()\n",
        "s1.setData()\n",
        "list1 = s1.getData()\n",
        "print(list1)"
      ],
      "execution_count": 5,
      "outputs": [
        {
          "output_type": "stream",
          "name": "stdout",
          "text": [
            "Enter the name of the student : KESAVA\n",
            "Enter the USN of the student : 45\n",
            "Enter the marks for subject 1 : 78\n",
            "Enter the marks for subject 2 : 67\n",
            "Enter the marks for subject 3 : 56\n",
            "Name : KESAVA \n",
            "USN : 45 \n",
            "Marks : \n",
            "Subject 1 : 78 \n",
            "Subject 2 : 67 \n",
            "Subject 3 : 56\n",
            "('KESAVA', 45, ['78', '67', '56'])\n"
          ]
        }
      ]
    },
    {
      "cell_type": "code",
      "metadata": {
        "colab": {
          "base_uri": "https://localhost:8080/"
        },
        "id": "cCSdZQ3-Q97N",
        "outputId": "08c0a90d-281c-49b3-8818-bff103f8a030"
      },
      "source": [
        "class Patient:\n",
        "    def setData(self):\n",
        "        self.name = input(\"Enter the name of the patient : \")\n",
        "        self.dateOfAdmission = input(\"Enter the date of admission : \")\n",
        "        self.symptoms = input(\"Enter all the symptoms : \").split(\" \")\n",
        "        self.oxygenLevel = int(input(\"Enter the oxygen level of the patient : \"))\n",
        "        self.dateOfDischarge = input(\"Enter the date of discharge : \")\n",
        "\n",
        "    def getData(self):\n",
        "        print(f\"\\nName : {self.name} \\nDate of Admission : {self.dateOfAdmission} \\nSymptoms : {self.symptoms} \\nOxygen Level : {self.oxygenLevel} \\nDate of Discharge : {self.dateOfDischarge}\\n\")\n",
        "        return self.name, self.dateOfAdmission, self.symptoms, self.oxygenLevel, self.dateOfDischarge\n",
        "\n",
        "    def checkSeverity(self):\n",
        "        if self.oxygenLevel < 90:\n",
        "            print(\"Patient's condition is severe.\")\n",
        "        else:\n",
        "            print(\"Patient is doing fine.\")\n",
        "\n",
        "\n",
        "class Hospital:    \n",
        "    def __init__(self):\n",
        "        self.listOfPatients = []\n",
        "        self.oxygenSupport = []\n",
        "\n",
        "    def addPatient(self):\n",
        "        temp = Patient()\n",
        "        temp.setData()\n",
        "        if temp.oxygenLevel < 90:\n",
        "            self.oxygenSupport.append(1)\n",
        "        else:\n",
        "            self.oxygenSupport.append(0)\n",
        "        self.listOfPatients.append(temp)\n",
        "\n",
        "    def checkSeverity(self):\n",
        "        name = input(\"Enter the name of the patient : \")\n",
        "        for i in range(0, len(self.listOfPatients)):\n",
        "            if name == self.listOfPatients[i].name:\n",
        "                self.listOfPatients[i].checkSeverity()\n",
        "                return 1\n",
        "        print(\"Patient not found\")\n",
        "\n",
        "\n",
        "    def getOxygenSupport(self):\n",
        "        return self.oxygenSupport.count(1)\n",
        "\n",
        "    def generalWard(self):\n",
        "        return self.oxygenSupport.count(0)\n",
        "\n",
        "    def totalPatients(self):\n",
        "        return len(self.listOfPatients)\n",
        "\n",
        "\n",
        "H1 = Hospital()\n",
        "\n",
        "for i in range(0, 2):\n",
        "    H1.addPatient()\n",
        "    H1.listOfPatients[i].getData()\n",
        "    H1.listOfPatients[i].checkSeverity()\n",
        "\n",
        "print(H1.getOxygenSupport())\n",
        "print(H1.generalWard())\n",
        "print(H1.totalPatients())\n",
        "H1.checkSeverity()"
      ],
      "execution_count": null,
      "outputs": [
        {
          "output_type": "stream",
          "name": "stdout",
          "text": [
            "Enter the name of the patient : KESAVA\n",
            "Enter the date of admission : 23/09/2021\n",
            "Enter all the symptoms : [ '' FEVER '' ]\n",
            "Enter the oxygen level of the patient : 99\n",
            "Enter the date of discharge : 24/10/2021\n",
            "\n",
            "Name : KESAVA \n",
            "Date of Admission : 23/09/2021 \n",
            "Symptoms : ['[', \"''\", 'FEVER', \"''\", ']'] \n",
            "Oxygen Level : 99 \n",
            "Date of Discharge : 24/10/2021\n",
            "\n",
            "Patient is doing fine.\n"
          ]
        }
      ]
    },
    {
      "cell_type": "code",
      "metadata": {
        "colab": {
          "base_uri": "https://localhost:8080/"
        },
        "id": "fA4c0pH-ODMQ",
        "outputId": "111938d7-037d-4b30-e6de-c7b025d9b612"
      },
      "source": [
        "class Time:\n",
        "    def setToDefault(self):\n",
        "        self.hours = 0\n",
        "        self.minutes = 0\n",
        "        self.seconds = 0\n",
        "\n",
        "    def setToVal(self, hours, minutes, seconds):\n",
        "        if seconds > 59:\n",
        "            tempMinutes = seconds // 60\n",
        "            seconds = seconds % 60\n",
        "            self.seconds = seconds\n",
        "            self.minutes = tempMinutes + minutes\n",
        "        else:\n",
        "            self.seconds = seconds\n",
        "            self.minutes = minutes\n",
        "\n",
        "        if self.minutes > 59:\n",
        "            tempHours = self.minutes // 60\n",
        "            self.minutes = self.minutes % 60\n",
        "            self.hours = tempHours + hours\n",
        "        else:\n",
        "            self.minutes = minutes\n",
        "            self.hours = hours\n",
        "\n",
        "    def displayTime(self):\n",
        "        print(f\"Time : {self.hours}::{self.minutes}::{self.seconds}\")\n",
        "\n",
        "\n",
        "T1 = Time()\n",
        "T1.setToDefault()\n",
        "T1.displayTime()\n",
        "T1.setToVal(10, 60, 60)\n",
        "T1.displayTime()\n",
        "T1.setToVal(10, 120, 150)\n",
        "T1.displayTime()\n",
        "T1.setToVal(10, 120, 60)\n",
        "T1.displayTime()"
      ],
      "execution_count": 18,
      "outputs": [
        {
          "output_type": "stream",
          "name": "stdout",
          "text": [
            "Time : 0::0::0\n",
            "Time : 11::1::0\n",
            "Time : 12::2::30\n",
            "Time : 12::1::0\n"
          ]
        }
      ]
    },
    {
      "cell_type": "code",
      "metadata": {
        "colab": {
          "base_uri": "https://localhost:8080/"
        },
        "id": "RueEv2anPsX8",
        "outputId": "8b563140-c382-4ce5-b7ed-d332989672d8"
      },
      "source": [
        "class Student:\n",
        "    def __init__(self, name, age, rollNo):\n",
        "        self.name = name\n",
        "        self.age = age\n",
        "        self.rollNo = rollNo\n",
        "\n",
        "    @classmethod\n",
        "    def compareStudentsAge(cls, std1, std2):\n",
        "        if std1.age == std2.age:\n",
        "            print(\"Age of the students are equal.\")\n",
        "        else:\n",
        "            print(\"Age of the students are not equal.\")\n",
        "\n",
        "std1 = Student(\"Rahul\", 21, 33)\n",
        "std2 = Student(\"Rohit\", 22, 74)\n",
        "\n",
        "Student.compareStudentsAge(std1, std2)"
      ],
      "execution_count": 19,
      "outputs": [
        {
          "output_type": "stream",
          "name": "stdout",
          "text": [
            "Age of the students are not equal.\n"
          ]
        }
      ]
    },
    {
      "cell_type": "code",
      "metadata": {
        "colab": {
          "base_uri": "https://localhost:8080/"
        },
        "id": "LZqzSg0DP4ZR",
        "outputId": "bf65c9d4-06f9-44a2-96ec-7b78ce9dac4d"
      },
      "source": [
        "class Student:\n",
        "    sem = 3\n",
        "    institute = \"IIIT Dharwad\"\n",
        "    \n",
        "    def setData(self):\n",
        "        self.name = input(\"Enter the name of the student : \")\n",
        "        self.id = int(input(\"Enter the USN of student : \"))\n",
        "\n",
        "    def getInstanceData(self):\n",
        "        print(f\"Name : {self.name} \\nUSN = {self.id}\")\n",
        "\n",
        "    @classmethod\n",
        "    def getClassData(cls):\n",
        "        print(f\"Semester : {cls.sem} \\nInstitute : {cls.institute} \\n\")\n",
        "\n",
        "    @staticmethod\n",
        "    def getExplanation():\n",
        "        print(\"Class variables namely sem and institute are printed using ClassMethod and Instance variables namely name and id are printed using Instance Method\")\n",
        "\n",
        "\n",
        "s1 = Student()\n",
        "s1.setData()\n",
        "s1.getInstanceData()\n",
        "Student.getClassData()\n",
        "Student.getExplanation()"
      ],
      "execution_count": 20,
      "outputs": [
        {
          "output_type": "stream",
          "name": "stdout",
          "text": [
            "Enter the name of the student : ARJUN\n",
            "Enter the USN of student : 76\n",
            "Name : ARJUN \n",
            "USN = 76\n",
            "Semester : 3 \n",
            "Institute : IIIT Dharwad \n",
            "\n",
            "Class variables namely sem and institute are printed using ClassMethod and Instance variables namely name and id are printed using Instance Method\n"
          ]
        }
      ]
    },
    {
      "cell_type": "code",
      "metadata": {
        "colab": {
          "base_uri": "https://localhost:8080/"
        },
        "id": "GFxqvrHEQBnx",
        "outputId": "88d6d9d6-d7fe-4a3f-8a79-bb3ebdc97510"
      },
      "source": [
        "class Student:\n",
        "    def setData(self):\n",
        "        self.Name = input(\"Enter the name : \")\n",
        "        self.ID = int(input(\"Enter the Roll Number : \"))\n",
        "        self.sem = int(input(\"Enter the semester number : \"))\n",
        "        self.nLaptop = int(input(\"Enter the number of laptops : \"))\n",
        "        self.listLaptop = []\n",
        "        for i in range (0, self.nLaptop):\n",
        "            tempObj = self.Laptop()\n",
        "            self.listLaptop.append(tempObj)\n",
        "\n",
        "    class Laptop:\n",
        "        def __init__(self):\n",
        "            self.cpu = input(\"Enter the name of the CPU : \")\n",
        "            self.ram = input(\"Enter the RAM of the Laptop : \")\n",
        "            self.hardDisk = input(\"Enter the size of hard disk : \")\n",
        "            self.display = input(\"Enter the display resolution : \")\n",
        "        \n",
        "        def getData(self):\n",
        "            print(f\"\\nCPU : {self.cpu} \\nRAM : {self.ram} \\nHard Disk : {self.hardDisk} \\nDisplay Resolution : {self.display} \\n\")\n",
        "\n",
        "    def getData(self):\n",
        "        print(f\"\\nName : {self.Name} \\nUSN : {self.ID} \\nSemester : {self.sem} \\nNumber of Laptops : {self.nLaptop}\")\n",
        "        for i in range(0, self.nLaptop):\n",
        "            print(f\"Details of {i+1}th laptop : \")\n",
        "            self.listLaptop[i].getData()\n",
        "\n",
        "S1 = Student()\n",
        "S1.setData()\n",
        "S1.getData()"
      ],
      "execution_count": 22,
      "outputs": [
        {
          "output_type": "stream",
          "name": "stdout",
          "text": [
            "Enter the name : KESAVA\n",
            "Enter the Roll Number : 24\n",
            "Enter the semester number : 3\n",
            "Enter the number of laptops : 5\n",
            "Enter the name of the CPU : 5\n",
            "Enter the RAM of the Laptop : 5\n",
            "Enter the size of hard disk : 35\n",
            "Enter the display resolution : 45\n",
            "Enter the name of the CPU : ACER\n",
            "Enter the RAM of the Laptop : 45\n",
            "Enter the size of hard disk : 43\n",
            "Enter the display resolution : 54\n",
            "Enter the name of the CPU : NEO\n",
            "Enter the RAM of the Laptop : 65\n",
            "Enter the size of hard disk : 34\n",
            "Enter the display resolution : 32\n",
            "Enter the name of the CPU : GRAPH\n",
            "Enter the RAM of the Laptop : 45\n",
            "Enter the size of hard disk : 54\n",
            "Enter the display resolution : 1000\n",
            "Enter the name of the CPU : SPICE\n",
            "Enter the RAM of the Laptop : 678\n",
            "Enter the size of hard disk : 6462\n",
            "Enter the display resolution : 10000\n",
            "\n",
            "Name : KESAVA \n",
            "USN : 24 \n",
            "Semester : 3 \n",
            "Number of Laptops : 5\n",
            "Details of 1th laptop : \n",
            "\n",
            "CPU : 5 \n",
            "RAM : 5 \n",
            "Hard Disk : 35 \n",
            "Display Resolution : 45 \n",
            "\n",
            "Details of 2th laptop : \n",
            "\n",
            "CPU : ACER \n",
            "RAM : 45 \n",
            "Hard Disk : 43 \n",
            "Display Resolution : 54 \n",
            "\n",
            "Details of 3th laptop : \n",
            "\n",
            "CPU : NEO \n",
            "RAM : 65 \n",
            "Hard Disk : 34 \n",
            "Display Resolution : 32 \n",
            "\n",
            "Details of 4th laptop : \n",
            "\n",
            "CPU : GRAPH \n",
            "RAM : 45 \n",
            "Hard Disk : 54 \n",
            "Display Resolution : 1000 \n",
            "\n",
            "Details of 5th laptop : \n",
            "\n",
            "CPU : SPICE \n",
            "RAM : 678 \n",
            "Hard Disk : 6462 \n",
            "Display Resolution : 10000 \n",
            "\n"
          ]
        }
      ]
    }
  ]
}